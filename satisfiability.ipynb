{
 "cells": [
  {
   "cell_type": "markdown",
   "metadata": {
    "id": "niV2fFkQLfxv"
   },
   "source": [
    "## This simple notebook shows how to compute the validity and satisfiability of logical sentences with functions from AIMA logic.py"
   ]
  },
  {
   "cell_type": "markdown",
   "metadata": {
    "id": "b9alRCRqLfx0"
   },
   "source": [
    "To run on Colab, make sure you are logged into Google, uncomment the lines in the following cell, and run it once. This asks the operating system to pip install a package required by logic.py, clone the aima repository in your temporarary file system and then cd to the aima directory so you can import python files.\n",
    "\n"
   ]
  },
  {
   "cell_type": "code",
   "execution_count": 1,
   "metadata": {
    "id": "RM6dkRabLfx0"
   },
   "outputs": [],
   "source": [
    "#!pip -q install qpsolvers\n",
    "#!pip -q install notebook\n",
    "##!pip -q install ipythonblocks\n",
    "#!git clone https://github.com/aimacode/aima-python.git;\n",
    "#%cd aima-python"
   ]
  },
  {
   "cell_type": "code",
   "execution_count": 2,
   "metadata": {
    "id": "FvLSEMI0Lfx1"
   },
   "outputs": [],
   "source": [
    "from logic import *"
   ]
  },
  {
   "cell_type": "markdown",
   "metadata": {
    "id": "emUQJu1tLfx1"
   },
   "source": [
    "The AIMA logic.py function **expr** to create an **Expression object** from a string in which identifiers are automatically defined as Symbols and ==> is treated as an infix |'==>'|, as are <== and <=>. If the argument is already an Expression, it is returned unchanged."
   ]
  },
  {
   "cell_type": "code",
   "execution_count": 3,
   "metadata": {
    "id": "Yui9c0HlLfx2"
   },
   "outputs": [],
   "source": [
    "foo = expr('P ==> Q')"
   ]
  },
  {
   "cell_type": "markdown",
   "metadata": {
    "id": "DDmSQRVcLfx2"
   },
   "source": [
    "The expr class (in utils.py) has a __repr__ method that is called when an instance is printed to return a string representation."
   ]
  },
  {
   "cell_type": "code",
   "execution_count": 4,
   "metadata": {
    "colab": {
     "base_uri": "https://localhost:8080/"
    },
    "id": "-cthPJ4-Lfx2",
    "outputId": "2e187341-b0ce-4863-bd4f-1c75a6e4cdd9"
   },
   "outputs": [
    {
     "name": "stdout",
     "output_type": "stream",
     "text": [
      "type:<class 'utils.Expr'>; (P ==> Q)\n"
     ]
    }
   ],
   "source": [
    "print(f\"type:{type(foo)}; {foo}\")"
   ]
  },
  {
   "cell_type": "markdown",
   "metadata": {
    "id": "1PtZcls0Lfx3"
   },
   "source": [
    "Since a **knowledge base** (KB) is just a set of sentences that are all taken to be true, we can represent it as a conjunction of sentences.  This next expr can be thought of as a KB with three sentences."
   ]
  },
  {
   "cell_type": "code",
   "execution_count": 5,
   "metadata": {
    "colab": {
     "base_uri": "https://localhost:8080/"
    },
    "id": "wfPjQue2Lfx3",
    "outputId": "239fb1bc-8b3a-4092-bd23-03b34bcd4766"
   },
   "outputs": [
    {
     "data": {
      "text/plain": [
       "((P & (P ==> Q)) & (~P ==> R))"
      ]
     },
     "execution_count": 5,
     "metadata": {},
     "output_type": "execute_result"
    }
   ],
   "source": [
    "expr('P & (P ==> Q) & (~P ==> R)')"
   ]
  },
  {
   "cell_type": "markdown",
   "metadata": {
    "id": "LMJa5FnbLfx4"
   },
   "source": [
    "The **tt_true** function checks an expression object to see if it is valid, i.e., true in all possible models.  A valid sentence is true for all possible assignments of true and false to its variables."
   ]
  },
  {
   "cell_type": "code",
   "execution_count": 6,
   "metadata": {
    "colab": {
     "base_uri": "https://localhost:8080/"
    },
    "id": "W2dowDzaLfx4",
    "outputId": "5fe4c458-910d-430e-fd43-f18b281f7ed8"
   },
   "outputs": [
    {
     "data": {
      "text/plain": [
       "False"
      ]
     },
     "execution_count": 6,
     "metadata": {},
     "output_type": "execute_result"
    }
   ],
   "source": [
    "tt_true(expr('P'))"
   ]
  },
  {
   "cell_type": "code",
   "execution_count": 7,
   "metadata": {
    "colab": {
     "base_uri": "https://localhost:8080/"
    },
    "id": "-ovFE01zLfx4",
    "outputId": "abb3e68f-aaf4-42ea-8452-b1bdf7fb34eb"
   },
   "outputs": [
    {
     "data": {
      "text/plain": [
       "True"
      ]
     },
     "execution_count": 7,
     "metadata": {},
     "output_type": "execute_result"
    }
   ],
   "source": [
    "tt_true(expr('P | ~ P'))"
   ]
  },
  {
   "cell_type": "code",
   "execution_count": 8,
   "metadata": {
    "colab": {
     "base_uri": "https://localhost:8080/"
    },
    "id": "KaXmUSWPLfx4",
    "outputId": "8684d3f6-a10e-44d8-e978-f695e47f9120"
   },
   "outputs": [
    {
     "data": {
      "text/plain": [
       "True"
      ]
     },
     "execution_count": 8,
     "metadata": {},
     "output_type": "execute_result"
    }
   ],
   "source": [
    "tt_true(expr('(P ==> Q) <=> (~P | Q)'))"
   ]
  },
  {
   "cell_type": "markdown",
   "metadata": {
    "id": "a45vohFFLfx5"
   },
   "source": [
    "**dpll_satisfiable** checks satisfiability of a propositional sentence, returning a *model* if it is satisfiable and *False* if not.  The model is represented as dictionary with the propositional variables as the keys and True or Fase as their values."
   ]
  },
  {
   "cell_type": "code",
   "execution_count": 9,
   "metadata": {
    "colab": {
     "base_uri": "https://localhost:8080/"
    },
    "id": "cy4jYS-_Lfx5",
    "outputId": "8dc99370-839b-4b4d-f864-3ba3fd5825b7"
   },
   "outputs": [
    {
     "data": {
      "text/plain": [
       "{Q: True, P: True}"
      ]
     },
     "execution_count": 9,
     "metadata": {},
     "output_type": "execute_result"
    }
   ],
   "source": [
    "dpll_satisfiable(expr('P & Q'))"
   ]
  },
  {
   "cell_type": "markdown",
   "metadata": {
    "id": "rIX9juFoLfx5"
   },
   "source": [
    "Note that if there are multiple ways that a sentence can be satisfied, only one model is shown and it may be a minimal model, i.e., not including vaues for variables that can be either True or False."
   ]
  },
  {
   "cell_type": "code",
   "execution_count": 13,
   "metadata": {
    "colab": {
     "base_uri": "https://localhost:8080/"
    },
    "id": "0uAOBFR2Lfx6",
    "outputId": "f4f9261f-38ce-47e2-f947-33233d869e87"
   },
   "outputs": [
    {
     "data": {
      "text/plain": [
       "{Q: True}"
      ]
     },
     "execution_count": 13,
     "metadata": {},
     "output_type": "execute_result"
    }
   ],
   "source": [
    "dpll_satisfiable(expr('P | Q'))"
   ]
  },
  {
   "cell_type": "code",
   "execution_count": 14,
   "metadata": {
    "colab": {
     "base_uri": "https://localhost:8080/"
    },
    "id": "4E5VZ26ULfx6",
    "outputId": "ab9f079f-aa7d-4079-d5fd-4c875cc13373"
   },
   "outputs": [
    {
     "data": {
      "text/plain": [
       "{Q: False, P: True}"
      ]
     },
     "execution_count": 14,
     "metadata": {},
     "output_type": "execute_result"
    }
   ],
   "source": [
    "dpll_satisfiable(expr('P & ~Q'))"
   ]
  },
  {
   "cell_type": "markdown",
   "metadata": {},
   "source": [
    "For this example, if Q is true, P can be either True or False, so this is a minimal model."
   ]
  },
  {
   "cell_type": "code",
   "execution_count": 15,
   "metadata": {
    "colab": {
     "base_uri": "https://localhost:8080/"
    },
    "id": "1htAY3z1Lfx6",
    "outputId": "26764a79-e88e-4e79-b263-19902a8443c4"
   },
   "outputs": [
    {
     "data": {
      "text/plain": [
       "{Q: True}"
      ]
     },
     "execution_count": 15,
     "metadata": {},
     "output_type": "execute_result"
    }
   ],
   "source": [
    "dpll_satisfiable(expr('P ==> Q'))"
   ]
  },
  {
   "cell_type": "markdown",
   "metadata": {},
   "source": [
    "dpll_satisfiable takes a single sentence, but it can be arbitrarily comlex, like this conjunction of three simple expressions"
   ]
  },
  {
   "cell_type": "code",
   "execution_count": 16,
   "metadata": {
    "colab": {
     "base_uri": "https://localhost:8080/"
    },
    "id": "_KNcgyE1Lfx6",
    "outputId": "b067872f-f404-4f10-a884-39e7e5236d5a"
   },
   "outputs": [
    {
     "data": {
      "text/plain": [
       "{Q: True, R: True, P: True}"
      ]
     },
     "execution_count": 16,
     "metadata": {},
     "output_type": "execute_result"
    }
   ],
   "source": [
    "dpll_satisfiable(expr('P & (P ==> Q) & (~P ==> R)'))"
   ]
  },
  {
   "cell_type": "markdown",
   "metadata": {
    "id": "GRC6dNDpLfx7"
   },
   "source": [
    "The following KB can not be satisfied, since if P is true, then Q must also be true, but the KB says that Q is false."
   ]
  },
  {
   "cell_type": "code",
   "execution_count": 17,
   "metadata": {
    "colab": {
     "base_uri": "https://localhost:8080/"
    },
    "id": "TI-UvikmLfx7",
    "outputId": "e50a02ce-5839-4371-fd4f-7b02721480d9"
   },
   "outputs": [
    {
     "data": {
      "text/plain": [
       "False"
      ]
     },
     "execution_count": 17,
     "metadata": {},
     "output_type": "execute_result"
    }
   ],
   "source": [
    "dpll_satisfiable(expr('P & (P ==> Q) & (~P ==> R) & ~Q'))"
   ]
  },
  {
   "cell_type": "markdown",
   "metadata": {
    "id": "_4x3xGDJxtzu"
   },
   "source": [
    "We can also use WalkSAT, a function that uses local search.  It takes a list of clauses and checks for their satisfiability by randomly flipping values of the variables in them.  It returns None if no solution can be found within its alloted flips, which has a default of 10k.  This can often solve larger problems than dpll, but, although it is **sound**, it is not **complete**."
   ]
  },
  {
   "cell_type": "code",
   "execution_count": 18,
   "metadata": {
    "colab": {
     "base_uri": "https://localhost:8080/"
    },
    "id": "9_zvD6Q0Lfx7",
    "outputId": "3412a4cc-f4df-4ab8-e207-895f03b5803f"
   },
   "outputs": [
    {
     "data": {
      "text/plain": [
       "{Q: True, R: False, P: True}"
      ]
     },
     "execution_count": 18,
     "metadata": {},
     "output_type": "execute_result"
    }
   ],
   "source": [
    "WalkSAT([expr('P & (P ==> Q) & (~P ==> R)')])"
   ]
  },
  {
   "cell_type": "markdown",
   "metadata": {},
   "source": [
    "WalkSAT returns None if it cannot find a model that satisfies the list of expressions.  Of course, Python does not print anything for input that evaluates to None, as the following eample shows."
   ]
  },
  {
   "cell_type": "code",
   "execution_count": 22,
   "metadata": {
    "id": "d55FGf34zjT0"
   },
   "outputs": [],
   "source": [
    "WalkSAT([expr('P & (P ==> Q) & (~P ==> R) & ~Q')])"
   ]
  },
  {
   "cell_type": "markdown",
   "metadata": {},
   "source": [
    "Here's a case there the set of sentences is empty, so it shiuld return an empty model in the form of an empty dictionary"
   ]
  },
  {
   "cell_type": "code",
   "execution_count": 23,
   "metadata": {},
   "outputs": [
    {
     "data": {
      "text/plain": [
       "{}"
      ]
     },
     "execution_count": 23,
     "metadata": {},
     "output_type": "execute_result"
    }
   ],
   "source": [
    "WalkSAT([])"
   ]
  },
  {
   "cell_type": "markdown",
   "metadata": {},
   "source": [
    "We'll creat a new knowledge base for propositional sentences"
   ]
  },
  {
   "cell_type": "code",
   "execution_count": 44,
   "metadata": {},
   "outputs": [],
   "source": [
    "kb1 = PropKB()"
   ]
  },
  {
   "cell_type": "markdown",
   "metadata": {},
   "source": [
    "and add several sentences to it"
   ]
  },
  {
   "cell_type": "code",
   "execution_count": 45,
   "metadata": {},
   "outputs": [],
   "source": [
    "kb1.tell(expr('P ==> Q'))\n",
    "kb1.tell(expr('Q ==> R'))"
   ]
  },
  {
   "cell_type": "markdown",
   "metadata": {},
   "source": [
    "The KB does not know and cannot infer that R is True"
   ]
  },
  {
   "cell_type": "code",
   "execution_count": 46,
   "metadata": {},
   "outputs": [
    {
     "data": {
      "text/plain": [
       "False"
      ]
     },
     "execution_count": 46,
     "metadata": {},
     "output_type": "execute_result"
    }
   ],
   "source": [
    "kb1.ask_if_true(expr('R'))"
   ]
  },
  {
   "cell_type": "markdown",
   "metadata": {},
   "source": [
    "If we add P to the KB, it can infer Q and then R"
   ]
  },
  {
   "cell_type": "code",
   "execution_count": 47,
   "metadata": {},
   "outputs": [],
   "source": [
    "kb1.tell(expr('P'))"
   ]
  },
  {
   "cell_type": "code",
   "execution_count": 48,
   "metadata": {},
   "outputs": [
    {
     "data": {
      "text/plain": [
       "True"
      ]
     },
     "execution_count": 48,
     "metadata": {},
     "output_type": "execute_result"
    }
   ],
   "source": [
    "kb1.ask_if_true(expr('R'))"
   ]
  }
 ],
 "metadata": {
  "colab": {
   "collapsed_sections": [],
   "name": "satisfiability.ipynb",
   "provenance": []
  },
  "kernelspec": {
   "display_name": "Python 3",
   "language": "python",
   "name": "python3"
  },
  "language_info": {
   "codemirror_mode": {
    "name": "ipython",
    "version": 3
   },
   "file_extension": ".py",
   "mimetype": "text/x-python",
   "name": "python",
   "nbconvert_exporter": "python",
   "pygments_lexer": "ipython3",
   "version": "3.8.1"
  }
 },
 "nbformat": 4,
 "nbformat_minor": 1
}
